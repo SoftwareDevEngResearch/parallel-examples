{
 "cells": [
  {
   "cell_type": "code",
   "execution_count": 1,
   "metadata": {},
   "outputs": [],
   "source": [
    "import time\n",
    "import numpy as np\n",
    "import matplotlib.pyplot as plt\n",
    "%matplotlib inline"
   ]
  },
  {
   "cell_type": "code",
   "execution_count": 2,
   "metadata": {},
   "outputs": [
    {
     "name": "stderr",
     "output_type": "stream",
     "text": [
      "/Users/niemeyek/Desktop/demo/nbody_threading.py:22: RuntimeWarning: divide by zero encountered in true_divide\n",
      "  result = G * np.sum(diff * (m_j / mag3)[:,np.newaxis], axis=0)\n",
      "/Users/niemeyek/Desktop/demo/nbody_threading.py:22: RuntimeWarning: invalid value encountered in multiply\n",
      "  result = G * np.sum(diff * (m_j / mag3)[:,np.newaxis], axis=0)\n"
     ]
    }
   ],
   "source": [
    "from nbody_threading import simulate\n",
    "\n",
    "Ps = np.array([1, 2, 4, 8])\n",
    "runtimes = []\n",
    "for P in Ps:\n",
    "    start = time.time()\n",
    "    simulate(P, 128, 3, 300, 1.0, 1e-3)\n",
    "    stop = time.time()\n",
    "    runtimes.append(stop - start)"
   ]
  },
  {
   "cell_type": "code",
   "execution_count": 4,
   "metadata": {},
   "outputs": [
    {
     "data": {
      "image/png": "[encoded data removed]",
      "text/plain": [
       "<Figure size 432x288 with 1 Axes>"
      ]
     },
     "metadata": {
      "needs_background": "light"
     },
     "output_type": "display_data"
    }
   ],
   "source": [
    "plt.plot(Ps, runtimes, 'o')\n",
    "plt.xlabel('Number of processes')\n",
    "plt.ylabel('Runtime (s)')\n",
    "plt.grid(True)\n",
    "plt.show()"
   ]
  },
  {
   "cell_type": "markdown",
   "metadata": {},
   "source": [
    "So, this doesn't look good... the runtime is increasing with the number of processors! Clearly this threading approach is not the appropriate way forward."
   ]
  },
  {
   "cell_type": "code",
   "execution_count": null,
   "metadata": {},
   "outputs": [],
   "source": []
  }
 ],
 "metadata": {
  "kernelspec": {
   "display_name": "Python 3",
   "language": "python",
   "name": "python3"
  },
  "language_info": {
   "codemirror_mode": {
    "name": "ipython",
    "version": 3
   },
   "file_extension": ".py",
   "mimetype": "text/x-python",
   "name": "python",
   "nbconvert_exporter": "python",
   "pygments_lexer": "ipython3",
   "version": "3.6.10"
  }
 },
 "nbformat": 4,
 "nbformat_minor": 4
}
